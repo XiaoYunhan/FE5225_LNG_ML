{
 "cells": [
  {
   "cell_type": "code",
   "execution_count": 2,
   "metadata": {},
   "outputs": [],
   "source": [
    "import pandas as pd\n",
    "import numpy as np\n",
    "\n",
    "data = pd.read_csv('../../../data/Fine-Tuning/Updated_Pretraining_Data.csv')"
   ]
  },
  {
   "cell_type": "markdown",
   "metadata": {},
   "source": [
    "## Generating JSONL file from table"
   ]
  },
  {
   "cell_type": "code",
   "execution_count": 3,
   "metadata": {},
   "outputs": [
    {
     "data": {
      "text/plain": [
       "'./test.jsonl'"
      ]
     },
     "execution_count": 3,
     "metadata": {},
     "output_type": "execute_result"
    }
   ],
   "source": [
    "import json\n",
    "\n",
    "# Define a function to create the message format for each row\n",
    "def create_message(row):\n",
    "    system_content = \"This model is trained to analyze the sentiment of news articles concerning the LNG market and predict their impact on the LNG index's opening price and volatility for the following day. Please provide estimates for the expected return (ranging from -10.0 to +10.0), the volatility effect (ranging from -10.0 to +10.0), and the duration of the impact (scaled from 0 to 10, where 0 represents no impact and 10 represents a permanent impact). Include a comment explaining the rationale behind your predictions. Consider long-term market trends, seasonal variations, global supply-demand dynamics, and macroeconomic factors that might influence LNG prices and market behavior.\"\n",
    "    \n",
    "    user_content = {\n",
    "        \"date\": row[\"Timestamp\"],\n",
    "        \"title\": row[\"Title\"],\n",
    "        \"summary\": row[\"Summary\"],\n",
    "        \"price\": row[\"last_price\"],\n",
    "        \"vol_annual\": row[\"volatility_annual\"]\n",
    "    }\n",
    "\n",
    "    assistant_content = {\n",
    "        \"return\": row[\"T+3 return_normalized\"],\n",
    "        \"vol\": row[\"volatility_annual_normalized\"],\n",
    "        \"duration\": row[\"duration_estimated\"],\n",
    "        \"comment\": \"\"\n",
    "    }\n",
    "\n",
    "    message = {\n",
    "        \"messages\": [\n",
    "            {\"role\": \"system\", \"content\": system_content},\n",
    "            {\"role\": \"user\", \"content\": json.dumps(user_content)},\n",
    "            {\"role\": \"assistant\", \"content\": json.dumps(assistant_content)}\n",
    "        ]\n",
    "    }\n",
    "    return message\n",
    "\n",
    "# Generate messages for each row in the dataframe\n",
    "messages = data.apply(create_message, axis=1).tolist()\n",
    "\n",
    "# Write messages to a JSONL file\n",
    "jsonl_file_path = './LNG_unsupervised_full.jsonl'\n",
    "with open(jsonl_file_path, 'w') as outfile:\n",
    "    for message in messages:\n",
    "        json.dump(message, outfile)\n",
    "        outfile.write('\\n')\n",
    "\n",
    "jsonl_file_path"
   ]
  },
  {
   "cell_type": "markdown",
   "metadata": {},
   "source": [
    "## Uploading JSONL file to OpenAI for fine tuning"
   ]
  },
  {
   "cell_type": "code",
   "execution_count": 2,
   "metadata": {},
   "outputs": [
    {
     "data": {
      "text/plain": [
       "FileObject(id='file-YnizAui3Y8jXr256ROC20dYE', bytes=71616, created_at=1714427737, filename='LNG_unsupervised.jsonl', object='file', purpose='fine-tune', status='processed', status_details=None)"
      ]
     },
     "execution_count": 2,
     "metadata": {},
     "output_type": "execute_result"
    }
   ],
   "source": [
    "import os\n",
    "from openai import OpenAI\n",
    "\n",
    "os.environ[\"OPENAI_API_KEY\"] = \"sk-proj-FRgb9R4anIU0OBR86juqT3BlbkFJdNbwkNyAzye3opMo6lSt\"\n",
    "client = OpenAI()\n",
    "\n",
    "client.files.create(\n",
    "  file=open(\"LNG_unsupervised.jsonl\", \"rb\"),\n",
    "  purpose=\"fine-tune\"\n",
    ")"
   ]
  },
  {
   "cell_type": "markdown",
   "metadata": {},
   "source": [
    "## Starting the fine tuning job"
   ]
  },
  {
   "cell_type": "code",
   "execution_count": 3,
   "metadata": {},
   "outputs": [
    {
     "data": {
      "text/plain": [
       "FineTuningJob(id='ftjob-EnhBZn8Ed6EprbHTbiunUDWb', created_at=1714427834, error=Error(code=None, message=None, param=None), fine_tuned_model=None, finished_at=None, hyperparameters=Hyperparameters(n_epochs='auto', batch_size='auto', learning_rate_multiplier='auto'), model='gpt-3.5-turbo-0125', object='fine_tuning.job', organization_id='org-9rsaFJl2PIgLIQLSOLg9xdMs', result_files=[], seed=1663708322, status='validating_files', trained_tokens=None, training_file='file-YnizAui3Y8jXr256ROC20dYE', validation_file=None, integrations=[], user_provided_suffix=None, estimated_finish=None)"
      ]
     },
     "execution_count": 3,
     "metadata": {},
     "output_type": "execute_result"
    }
   ],
   "source": [
    "client.fine_tuning.jobs.create(\n",
    "  training_file=\"file-YnizAui3Y8jXr256ROC20dYE\", \n",
    "  model=\"gpt-3.5-turbo\"\n",
    ")"
   ]
  },
  {
   "cell_type": "markdown",
   "metadata": {},
   "source": [
    "## Checking job status"
   ]
  },
  {
   "cell_type": "code",
   "execution_count": 6,
   "metadata": {},
   "outputs": [
    {
     "data": {
      "text/plain": [
       "SyncCursorPage[FineTuningJob](data=[FineTuningJob(id='ftjob-EnhBZn8Ed6EprbHTbiunUDWb', created_at=1714427834, error=Error(code=None, message=None, param=None), fine_tuned_model=None, finished_at=None, hyperparameters=Hyperparameters(n_epochs=3, batch_size=1, learning_rate_multiplier=2), model='gpt-3.5-turbo-0125', object='fine_tuning.job', organization_id='org-9rsaFJl2PIgLIQLSOLg9xdMs', result_files=[], seed=1663708322, status='running', trained_tokens=None, training_file='file-YnizAui3Y8jXr256ROC20dYE', validation_file=None, integrations=[], user_provided_suffix=None, estimated_finish=1714428394)], object='list', has_more=False)"
      ]
     },
     "execution_count": 6,
     "metadata": {},
     "output_type": "execute_result"
    }
   ],
   "source": [
    "# List 10 fine-tuning jobs\n",
    "client.fine_tuning.jobs.list(limit=10)"
   ]
  },
  {
   "cell_type": "code",
   "execution_count": 7,
   "metadata": {},
   "outputs": [
    {
     "data": {
      "text/plain": [
       "FineTuningJob(id='ftjob-EnhBZn8Ed6EprbHTbiunUDWb', created_at=1714427834, error=Error(code=None, message=None, param=None), fine_tuned_model=None, finished_at=None, hyperparameters=Hyperparameters(n_epochs=3, batch_size=1, learning_rate_multiplier=2), model='gpt-3.5-turbo-0125', object='fine_tuning.job', organization_id='org-9rsaFJl2PIgLIQLSOLg9xdMs', result_files=[], seed=1663708322, status='running', trained_tokens=None, training_file='file-YnizAui3Y8jXr256ROC20dYE', validation_file=None, integrations=[], user_provided_suffix=None, estimated_finish=1714428396)"
      ]
     },
     "execution_count": 7,
     "metadata": {},
     "output_type": "execute_result"
    }
   ],
   "source": [
    "# Retrieve the state of a fine-tune\n",
    "client.fine_tuning.jobs.retrieve(\"ftjob-EnhBZn8Ed6EprbHTbiunUDWb\")\n",
    "\n",
    "# Cancel a job\n",
    "# client.fine_tuning.jobs.cancel(\"ftjob-abc123\")\n",
    "\n",
    "# List up to 10 events from a fine-tuning job\n",
    "# client.fine_tuning.jobs.list_events(fine_tuning_job_id=\"ftjob-abc123\", limit=10)\n",
    "\n",
    "# Delete a fine-tuned model (must be an owner of the org the model was created in)\n",
    "# client.models.delete(\"ft:gpt-3.5-turbo:acemeco:suffix:abc123\")"
   ]
  },
  {
   "cell_type": "markdown",
   "metadata": {},
   "source": [
    "## Start to genrate output!"
   ]
  },
  {
   "cell_type": "code",
   "execution_count": 8,
   "metadata": {},
   "outputs": [
    {
     "name": "stdout",
     "output_type": "stream",
     "text": [
      "ChatCompletionMessage(content='{\"return\": -1.745878987429439, \"vol\": -9.317153047917131, \"duration\": 7.029038468046126, \"comment\": \"\"}', role='assistant', function_call=None, tool_calls=None)\n"
     ]
    }
   ],
   "source": [
    "completion = client.chat.completions.create(\n",
    "  model=\"ft:gpt-3.5-turbo-0125:personal::9JTQBoWC\",\n",
    "  messages=[\n",
    "    {\"role\": \"system\", \"content\": \"This model is trained to analyze the sentiment of news articles concerning the LNG market and predict their impact on the LNG index's opening price and volatility for the following day. Please provide estimates for the expected return (ranging from -10.0 to +10.0), the volatility effect (ranging from -10.0 to +10.0), and the duration of the impact (scaled from 0 to 10, where 0 represents no impact and 10 represents a permanent impact). Include a comment explaining the rationale behind your predictions. Consider long-term market trends, seasonal variations, global supply-demand dynamics, and macroeconomic factors that might influence LNG prices and market behavior.\"},\n",
    "    {\"role\": \"user\", \"content\": \"{\\\"date\\\": \\\"2022-07-19\\\", \\\"title\\\": \\\"Russian Gas Supplies to Europe Aren\\\\u2019t Expected to Restart\\\", \\\"summary\\\": \\\"Europe is working on contingency plans for the possibility that the Nord Stream pipeline won\\\\u2019t return to operation.\\\", \\\"price\\\": 38.372, \\\"vol_annual\\\": 9.020759401473269}\"}\n",
    "  ]\n",
    ")\n",
    "print(completion.choices[0].message)"
   ]
  }
 ],
 "metadata": {
  "kernelspec": {
   "display_name": "Python 3",
   "language": "python",
   "name": "python3"
  },
  "language_info": {
   "codemirror_mode": {
    "name": "ipython",
    "version": 3
   },
   "file_extension": ".py",
   "mimetype": "text/x-python",
   "name": "python",
   "nbconvert_exporter": "python",
   "pygments_lexer": "ipython3",
   "version": "3.10.10"
  }
 },
 "nbformat": 4,
 "nbformat_minor": 2
}
