{
 "cells": [
  {
   "cell_type": "code",
   "execution_count": null,
   "metadata": {},
   "outputs": [],
   "source": [
    "from webdriver_manager.chrome import ChromeDriverManager\n",
    "from selenium import webdriver\n",
    "from selenium.webdriver.chrome.service import Service as ChromeService\n",
    "from selenium.webdriver.common.by import By\n",
    "import re\n",
    "import time\n",
    "\n",
    "options = webdriver.ChromeOptions()\n",
    "options.add_argument(\"--enable-javascript\")\n",
    "\n",
    "browser = webdriver.Chrome(\n",
    "    service=ChromeService(ChromeDriverManager().install()))\n",
    "browser.implicitly_wait(5)\n",
    "\n",
    "browser.execute_script(\"return true;\")\n",
    "\n",
    "browser.execute_cdp_cmd(\"Page.addScriptToEvaluateOnNewDocument\", {\n",
    "  \"source\": \"\"\"\n",
    "    Object.defineProperty(navigator, 'webdriver', {\n",
    "      get: () => undefined\n",
    "    })\n",
    "  \"\"\"\n",
    "})\n",
    "\n",
    "query = \"Python\"\n",
    "\n",
    "browser.get(\"https://www.wsj.com/search?query=lng&mod=searchresults_viewallresults\")\n",
    "\n",
    "time.sleep(1000)\n",
    "\n",
    "# search_input = browser.find_element(By.ID, \"searchInput\")\n",
    "# search_input.send_keys(query)\n",
    "\n",
    "# suggestions = browser.find_elements(By.CLASS_NAME, 'suggestion-link')\n",
    "# assert len(suggestions) > 0\n",
    "\n",
    "# for suggestion in suggestions:\n",
    "#     title_element = suggestion.find_element(\n",
    "#         By.CLASS_NAME, 'suggestion-highlight')\n",
    "#     assert re.search(query, title_element.text)\n",
    "\n",
    "# suggestions[0].click()\n",
    "# assert re.search(query, browser.current_url)\n",
    "\n",
    "# page_heading = browser.find_element(By.ID, \"firstHeading\")\n",
    "# assert re.search(query, page_heading.text)\n",
    "\n",
    "# print(\"tests passed\")\n",
    "browser.quit()"
   ]
  }
 ],
 "metadata": {
  "language_info": {
   "name": "python"
  }
 },
 "nbformat": 4,
 "nbformat_minor": 2
}
