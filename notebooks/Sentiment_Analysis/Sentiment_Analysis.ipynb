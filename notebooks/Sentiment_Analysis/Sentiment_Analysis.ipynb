{
 "cells": [
  {
   "cell_type": "code",
   "execution_count": 7,
   "metadata": {},
   "outputs": [],
   "source": [
    "import pandas as pd\n",
    "\n",
    "price_df = pd.read_parquet(\"..\\\\data\\\\Bloomberg Data Retrive.parquet\")"
   ]
  },
  {
   "cell_type": "code",
   "execution_count": 14,
   "metadata": {},
   "outputs": [
    {
     "data": {
      "text/plain": [
       "array(['PLLFLNJK PLDP Index', 'NBPG1MON OECM Index', 'CO1 Comdty',\n",
       "       'XW1 Comdty', 'LPXBHRBS Index', 'USGG10YR Index', 'USGG5YR Index',\n",
       "       'USGG2YR Index'], dtype=object)"
      ]
     },
     "execution_count": 14,
     "metadata": {},
     "output_type": "execute_result"
    }
   ],
   "source": [
    "price_df['Date'] = pd.to_datetime(price_df['Date'])\n",
    "unique_elements = price_df['Name'].unique()\n",
    "unique_elements"
   ]
  }
 ],
 "metadata": {
  "kernelspec": {
   "display_name": "Python 3",
   "language": "python",
   "name": "python3"
  },
  "language_info": {
   "codemirror_mode": {
    "name": "ipython",
    "version": 3
   },
   "file_extension": ".py",
   "mimetype": "text/x-python",
   "name": "python",
   "nbconvert_exporter": "python",
   "pygments_lexer": "ipython3",
   "version": "3.10.10"
  }
 },
 "nbformat": 4,
 "nbformat_minor": 2
}
